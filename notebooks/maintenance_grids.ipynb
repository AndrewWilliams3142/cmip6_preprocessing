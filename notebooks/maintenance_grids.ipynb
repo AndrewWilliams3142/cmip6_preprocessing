{
 "cells": [
  {
   "cell_type": "markdown",
   "metadata": {},
   "source": [
    "# Maintenance Notebook: Keeping the staggered_grid_config.yaml up to date\n",
    "\n",
    "Progress is hindered by a weird problem where I cant replace the datafram in the esm store anymore, like I used to. I raised an [issue](https://github.com/NCAR/intake-esm/issues/246) on github.\n",
    "\n",
    "## TODO: \n",
    "\n",
    "- One of the MPI versions has two different shift conventions (I might need to implement a 'force override' option."
   ]
  },
  {
   "cell_type": "code",
   "execution_count": 1,
   "metadata": {},
   "outputs": [],
   "source": [
    "# ! pip install git+https://github.com/NCAR/intake-esm.git\n",
    "# ! pip install git+https://github.com/jbusecke/cmip6_preprocessing.git"
   ]
  },
  {
   "cell_type": "code",
   "execution_count": 2,
   "metadata": {},
   "outputs": [
    {
     "name": "stderr",
     "output_type": "stream",
     "text": [
      "/srv/conda/envs/notebook/lib/python3.7/site-packages/intake/source/discovery.py:136: FutureWarning: The drivers ['geojson', 'postgis', 'shapefile', 'spatialite'] do not specify entry_points and were only discovered via a package scan. This may break in a future release of intake. The packages should be updated.\n",
      "  FutureWarning)\n"
     ]
    }
   ],
   "source": [
    "%load_ext autoreload\n",
    "%autoreload 2\n",
    "import intake\n",
    "import pandas as pd\n",
    "import xarray as xr\n",
    "from cmip6_preprocessing.grids import detect_shift\n",
    "from cmip6_preprocessing.preprocessing import combined_preprocessing"
   ]
  },
  {
   "cell_type": "code",
   "execution_count": 7,
   "metadata": {},
   "outputs": [
    {
     "name": "stdout",
     "output_type": "stream",
     "text": [
      "Did not find tracer data for these models:{'UKESM1-0-LL.gm', 'HadGEM3-GC31-LL.gnz', 'HadGEM3-GC31-MM.gm', 'NorESM1-F.gr', 'HadGEM3-GC31-LL.gm', 'NorESM2-LM.gm', 'NorESM2-MM.gm', 'IPSL-CM6A-LR.gr', 'NorCPM1.grz', 'NorCPM1.gm', 'MRI-ESM2-0.gr2z', 'NorESM2-LM.grz', 'NorESM2-MM.grz', 'UKESM1-0-LL.gnz', 'MRI-ESM2-0.gm', 'MIROC6.gm', 'EC-Earth3-Veg.gr', 'MRI-ESM2-0.gnz'}\n",
      "\n",
      "Did not find u data for these models:{'UKESM1-0-LL.gm', 'HadGEM3-GC31-LL.gnz', 'HadGEM3-GC31-MM.gm', 'NorESM1-F.gr', 'FGOALS-g3.gn', 'IITM-ESM.gn', 'CNRM-CM6-1.gr1', 'CESM1-1-CAM5-CMIP5.gn', 'HadGEM3-GC31-LL.gm', 'NorESM2-LM.gm', 'EC-Earth3.gr', 'KACE-1-0-G.gr', 'GISS-E2-1-H.gn', 'NorESM2-MM.gm', 'NorCPM1.gn', 'CESM2.gr', 'CESM1-1-CAM5-CMIP5.gr', 'IPSL-CM6A-LR.gr', 'EC-Earth3-Veg-LR.gn', 'NorCPM1.grz', 'CESM2-WACCM.gr', 'GFDL-OM4p5B.gn', 'NorCPM1.gm', 'GFDL-CM4.gr', 'MRI-ESM2-0.gr2z', 'NorESM2-LM.grz', 'CAS-ESM2-0.gn', 'NorESM2-MM.grz', 'CESM2-WACCM-FV2.gr', 'GFDL-OM4p5B.gr', 'CESM2-FV2.gr', 'UKESM1-0-LL.gnz', 'AWI-ESM-1-1-LR.gn', 'CNRM-ESM2-1.gr1', 'MRI-ESM2-0.gm', 'MIROC6.gm', 'NorESM1-F.gn', 'GFDL-ESM4.gn', 'MRI-ESM2-0.gr', 'GFDL-ESM4.gr', 'EC-Earth3-Veg.gr', 'MRI-ESM2-0.gnz'}\n",
      "\n",
      "Did not find v data for these models:{'UKESM1-0-LL.gm', 'HadGEM3-GC31-LL.gnz', 'HadGEM3-GC31-MM.gm', 'NorESM1-F.gr', 'FGOALS-g3.gn', 'IITM-ESM.gn', 'CNRM-CM6-1.gr1', 'CESM1-1-CAM5-CMIP5.gn', 'HadGEM3-GC31-LL.gm', 'NorESM2-LM.gm', 'EC-Earth3.gr', 'KACE-1-0-G.gr', 'GISS-E2-1-H.gn', 'NorESM2-MM.gm', 'NorCPM1.gn', 'CESM2.gr', 'CESM1-1-CAM5-CMIP5.gr', 'IPSL-CM6A-LR.gr', 'EC-Earth3-Veg-LR.gn', 'NorCPM1.grz', 'CESM2-WACCM.gr', 'GFDL-OM4p5B.gn', 'NorCPM1.gm', 'GFDL-CM4.gr', 'MRI-ESM2-0.gr2z', 'NorESM2-LM.grz', 'CAS-ESM2-0.gn', 'NorESM2-MM.grz', 'CESM2-WACCM-FV2.gr', 'GFDL-OM4p5B.gr', 'CESM2-FV2.gr', 'UKESM1-0-LL.gnz', 'AWI-ESM-1-1-LR.gn', 'CNRM-ESM2-1.gr1', 'MRI-ESM2-0.gm', 'MIROC6.gm', 'NorESM1-F.gn', 'GFDL-ESM4.gn', 'MRI-ESM2-0.gr', 'GFDL-ESM4.gr', 'EC-Earth3-Veg.gr', 'MRI-ESM2-0.gnz'}\n",
      "\n",
      "Any models that have only u or v:set()\n"
     ]
    }
   ],
   "source": [
    "# Grab all available ocean output.\n",
    "\n",
    "\n",
    "def available_output(variables=None):\n",
    "    \"\"\"Show which source_id/grid_label combos have any data, and return a df that picks only one dataset for each combo\"\"\"\n",
    "    url = \"https://raw.githubusercontent.com/NCAR/intake-esm-datastore/master/catalogs/pangeo-cmip6.json\"\n",
    "    col = intake.open_esm_datastore(url)\n",
    "    query = dict(table_id=['Omon', 'Oyr'], variable_id=variables) # pick all available ocean fields for now\n",
    "    cat = col.search(**query)\n",
    "    \n",
    "    available = []\n",
    "    dataframes = []\n",
    "    df = cat.df.copy()\n",
    "    groups = df.groupby(['source_id', 'grid_label'])\n",
    "    for group in groups:\n",
    "        \n",
    "        # add source_id/grid_label combo to list\n",
    "        label = '.'.join(group[0])\n",
    "        # pick only the first index of each group\n",
    "        line = group[1].iloc[0,:]\n",
    "        \n",
    "        available.append(label)\n",
    "        dataframes.append(line)\n",
    "\n",
    "    new_df = pd.concat(dataframes, axis=1).transpose()\n",
    "    cat.df = new_df\n",
    "    \n",
    "    return cat, available\n",
    "\n",
    "_, all_models = available_output()\n",
    "    \n",
    "# print(len(all_models))\n",
    "\n",
    "cat_tracer, tracer_models = available_output(['tos', 'thetao'])\n",
    "missing_tracer_models = set(tracer_models).symmetric_difference(set(all_models))\n",
    "print(f\"Did not find tracer data for these models:{missing_tracer_models}\\n\")\n",
    "\n",
    "cat_u, u_models = available_output(['uo'])\n",
    "missing_u_models = set(u_models).symmetric_difference(set(all_models))\n",
    "print(f\"Did not find u data for these models:{missing_u_models}\\n\")\n",
    "\n",
    "cat_v, v_models = available_output(['vo'])\n",
    "missing_v_models = set(v_models).symmetric_difference(set(all_models))\n",
    "print(f\"Did not find v data for these models:{missing_v_models}\\n\")\n",
    "\n",
    "print(f\"Any models that have only u or v:{set(v_models).symmetric_difference(set(u_models))}\")"
   ]
  },
  {
   "cell_type": "code",
   "execution_count": 4,
   "metadata": {},
   "outputs": [
    {
     "name": "stdout",
     "output_type": "stream",
     "text": [
      "0\n",
      "1\n",
      "2\n",
      "3\n",
      "4\n",
      "5\n",
      "6\n",
      "7\n",
      "8\n",
      "9\n",
      "10\n",
      "CESM2: Unexpected unit (centimeters) for coordinate `lev` detected.\n",
      "\t Converted to `m`\n",
      "11\n",
      "12\n"
     ]
    },
    {
     "name": "stderr",
     "output_type": "stream",
     "text": [
      "/srv/conda/envs/notebook/lib/python3.7/site-packages/dask/core.py:119: RuntimeWarning: invalid value encountered in greater\n",
      "  return func(*args2)\n",
      "/srv/conda/envs/notebook/lib/python3.7/site-packages/dask/core.py:119: RuntimeWarning: invalid value encountered in greater\n",
      "  return func(*args2)\n",
      "/srv/conda/envs/notebook/lib/python3.7/site-packages/dask/core.py:119: RuntimeWarning: invalid value encountered in greater\n",
      "  return func(*args2)\n",
      "/srv/conda/envs/notebook/lib/python3.7/site-packages/dask/core.py:119: RuntimeWarning: invalid value encountered in greater\n",
      "  return func(*args2)\n"
     ]
    },
    {
     "name": "stdout",
     "output_type": "stream",
     "text": [
      "13\n",
      "14\n",
      "CESM2-WACCM: Unexpected unit (centimeters) for coordinate `lev` detected.\n",
      "\t Converted to `m`\n",
      "15\n",
      "16\n",
      "17\n",
      "18\n",
      "19\n",
      "20\n",
      "21\n",
      "22\n",
      "23\n",
      "24\n",
      "25\n",
      "26\n",
      "27\n",
      "28\n",
      "29\n",
      "30\n",
      "31\n",
      "32\n",
      "33\n",
      "34\n"
     ]
    },
    {
     "name": "stderr",
     "output_type": "stream",
     "text": [
      "/srv/conda/envs/notebook/lib/python3.7/site-packages/cmip6_preprocessing/preprocessing.py:253: UserWarning: `FGOALS-f3-L` does not provide lon or lat bounds.\n",
      "  warnings.warn(\"`FGOALS-f3-L` does not provide lon or lat bounds.\")\n"
     ]
    },
    {
     "name": "stdout",
     "output_type": "stream",
     "text": [
      "35\n",
      "36\n",
      "37\n",
      "38\n",
      "39\n",
      "40\n",
      "41\n",
      "42\n",
      "43\n",
      "44\n",
      "45\n",
      "46\n",
      "47\n",
      "48\n",
      "49\n",
      "50\n",
      "51\n",
      "52\n",
      "53\n",
      "54\n",
      "55\n",
      "56\n",
      "MIROC-ES2L: No units found\n",
      "57\n",
      "MIROC6: No units found\n",
      "58\n",
      "59\n",
      "60\n",
      "61\n",
      "62\n",
      "63\n",
      "64\n",
      "65\n",
      "66\n",
      "67\n",
      "68\n",
      "69\n",
      "70\n",
      "71\n",
      "72\n",
      "73\n",
      "0\n",
      "1\n",
      "2\n",
      "3\n",
      "4\n",
      "5\n",
      "6\n",
      "CESM2: Unexpected unit (centimeters) for coordinate `lev` detected.\n",
      "\t Converted to `m`\n",
      "7\n",
      "CESM2-FV2: Unexpected unit (centimeters) for coordinate `lev` detected.\n",
      "\t Converted to `m`\n"
     ]
    },
    {
     "name": "stderr",
     "output_type": "stream",
     "text": [
      "/srv/conda/envs/notebook/lib/python3.7/site-packages/dask/core.py:119: RuntimeWarning: invalid value encountered in greater\n",
      "  return func(*args2)\n",
      "/srv/conda/envs/notebook/lib/python3.7/site-packages/dask/core.py:119: RuntimeWarning: invalid value encountered in greater\n",
      "  return func(*args2)\n",
      "/srv/conda/envs/notebook/lib/python3.7/site-packages/dask/core.py:119: RuntimeWarning: invalid value encountered in greater\n",
      "  return func(*args2)\n",
      "/srv/conda/envs/notebook/lib/python3.7/site-packages/dask/core.py:119: RuntimeWarning: invalid value encountered in greater\n",
      "  return func(*args2)\n"
     ]
    },
    {
     "name": "stdout",
     "output_type": "stream",
     "text": [
      "8\n",
      "CESM2-WACCM: Unexpected unit (centimeters) for coordinate `lev` detected.\n",
      "\t Converted to `m`\n",
      "9\n",
      "CESM2-WACCM-FV2: Unexpected unit (centimeters) for coordinate `lev` detected.\n",
      "\t Converted to `m`\n",
      "10\n",
      "11\n",
      "12\n",
      "13\n",
      "14\n",
      "15\n",
      "16\n",
      "17\n",
      "18\n",
      "19\n",
      "20\n",
      "21\n",
      "22\n"
     ]
    },
    {
     "name": "stderr",
     "output_type": "stream",
     "text": [
      "/srv/conda/envs/notebook/lib/python3.7/site-packages/cmip6_preprocessing/preprocessing.py:253: UserWarning: `FGOALS-f3-L` does not provide lon or lat bounds.\n",
      "  warnings.warn(\"`FGOALS-f3-L` does not provide lon or lat bounds.\")\n"
     ]
    },
    {
     "name": "stdout",
     "output_type": "stream",
     "text": [
      "23\n",
      "24\n",
      "25\n",
      "26\n",
      "27\n",
      "28\n",
      "29\n",
      "30\n",
      "31\n",
      "32\n",
      "33\n",
      "34\n",
      "35\n",
      "MIROC-ES2L: No units found\n",
      "36\n",
      "MIROC6: No units found\n",
      "37\n",
      "38\n",
      "39\n",
      "40\n",
      "41\n",
      "42\n",
      "43\n",
      "44\n",
      "45\n",
      "46\n",
      "47\n"
     ]
    },
    {
     "name": "stderr",
     "output_type": "stream",
     "text": [
      "/srv/conda/envs/notebook/lib/python3.7/site-packages/cmip6_preprocessing/preprocessing.py:273: UserWarning: Found time as dimension in `lon_bounds`. Assuming this is an error and just picking the first step along that dimension.\n",
      "  f\"Found {ed} as dimension in `{co}`. Assuming this is an error and just picking the first step along that dimension.\"\n"
     ]
    },
    {
     "name": "stdout",
     "output_type": "stream",
     "text": [
      "48\n",
      "49\n",
      "0\n",
      "1\n",
      "2\n",
      "3\n",
      "4\n",
      "5\n",
      "6\n",
      "CESM2: Unexpected unit (centimeters) for coordinate `lev` detected.\n",
      "\t Converted to `m`\n",
      "7\n",
      "CESM2-FV2: Unexpected unit (centimeters) for coordinate `lev` detected.\n",
      "\t Converted to `m`\n"
     ]
    },
    {
     "name": "stderr",
     "output_type": "stream",
     "text": [
      "/srv/conda/envs/notebook/lib/python3.7/site-packages/dask/core.py:119: RuntimeWarning: invalid value encountered in greater\n",
      "  return func(*args2)\n",
      "/srv/conda/envs/notebook/lib/python3.7/site-packages/dask/core.py:119: RuntimeWarning: invalid value encountered in greater\n",
      "  return func(*args2)\n",
      "/srv/conda/envs/notebook/lib/python3.7/site-packages/dask/core.py:119: RuntimeWarning: invalid value encountered in greater\n",
      "  return func(*args2)\n",
      "/srv/conda/envs/notebook/lib/python3.7/site-packages/dask/core.py:119: RuntimeWarning: invalid value encountered in greater\n",
      "  return func(*args2)\n"
     ]
    },
    {
     "name": "stdout",
     "output_type": "stream",
     "text": [
      "8\n",
      "CESM2-WACCM: Unexpected unit (centimeters) for coordinate `lev` detected.\n",
      "\t Converted to `m`\n",
      "9\n",
      "CESM2-WACCM-FV2: Unexpected unit (centimeters) for coordinate `lev` detected.\n",
      "\t Converted to `m`\n",
      "10\n",
      "11\n",
      "12\n",
      "13\n",
      "14\n",
      "15\n",
      "16\n",
      "17\n",
      "18\n",
      "19\n",
      "20\n",
      "21\n",
      "22\n"
     ]
    },
    {
     "name": "stderr",
     "output_type": "stream",
     "text": [
      "/srv/conda/envs/notebook/lib/python3.7/site-packages/cmip6_preprocessing/preprocessing.py:253: UserWarning: `FGOALS-f3-L` does not provide lon or lat bounds.\n",
      "  warnings.warn(\"`FGOALS-f3-L` does not provide lon or lat bounds.\")\n"
     ]
    },
    {
     "name": "stdout",
     "output_type": "stream",
     "text": [
      "23\n",
      "24\n",
      "25\n",
      "26\n",
      "27\n",
      "28\n",
      "29\n",
      "30\n",
      "31\n",
      "32\n",
      "33\n",
      "34\n",
      "35\n",
      "MIROC-ES2L: No units found\n",
      "36\n",
      "MIROC6: No units found\n",
      "37\n",
      "38\n",
      "39\n",
      "40\n",
      "41\n",
      "42\n",
      "43\n",
      "44\n",
      "45\n",
      "46\n",
      "47\n"
     ]
    },
    {
     "name": "stderr",
     "output_type": "stream",
     "text": [
      "/srv/conda/envs/notebook/lib/python3.7/site-packages/cmip6_preprocessing/preprocessing.py:273: UserWarning: Found time as dimension in `lon_bounds`. Assuming this is an error and just picking the first step along that dimension.\n",
      "  f\"Found {ed} as dimension in `{co}`. Assuming this is an error and just picking the first step along that dimension.\"\n"
     ]
    },
    {
     "name": "stdout",
     "output_type": "stream",
     "text": [
      "48\n",
      "49\n"
     ]
    }
   ],
   "source": [
    "# for now load them manually\n",
    "import fsspec\n",
    "import xarray as xr\n",
    "super_dict = {}\n",
    "for var, cat in zip(['thetao', 'uo', 'vo'],[cat_tracer, cat_u, cat_v]):\n",
    "    super_dict[var]={}\n",
    "    for ri,(rr,row) in enumerate(cat.df.iterrows()):\n",
    "#         print(ri)\n",
    "        ds = combined_preprocessing(xr.open_zarr(fsspec.get_mapper(row['zstore']), consolidated=True, decode_times=False))\n",
    "        label = f\"{row['source_id']}.{row['grid_label']}\"\n",
    "        super_dict[var][label] = ds"
   ]
  },
  {
   "cell_type": "code",
   "execution_count": 29,
   "metadata": {},
   "outputs": [
    {
     "name": "stdout",
     "output_type": "stream",
     "text": [
      "############### ACCESS-CM2.gn #######################\n",
      "############### ACCESS-ESM1-5.gn #######################\n",
      "############### BCC-CSM2-MR.gn #######################\n",
      "############### BCC-ESM1.gn #######################\n",
      "############### CAMS-CSM1-0.gn #######################\n",
      "############### CAS-ESM2-0.gn #######################\n",
      "ATTENTION: Setting shift to left for CAS-ESM2-0.gn, since there is no velocity data\n",
      "############### CESM1-1-CAM5-CMIP5.gn #######################\n",
      "ATTENTION: Setting shift to left for CESM1-1-CAM5-CMIP5.gn, since there is no velocity data\n",
      "############### CESM1-1-CAM5-CMIP5.gr #######################\n",
      "ATTENTION: Setting shift to left for CESM1-1-CAM5-CMIP5.gr, since there is no velocity data\n",
      "############### CESM2.gn #######################\n",
      "############### CESM2.gr #######################\n",
      "ATTENTION: Setting shift to left for CESM2.gr, since there is no velocity data\n",
      "############### CESM2-FV2.gn #######################\n"
     ]
    },
    {
     "name": "stderr",
     "output_type": "stream",
     "text": [
      "/srv/conda/envs/notebook/lib/python3.7/site-packages/dask/core.py:119: RuntimeWarning: invalid value encountered in greater\n",
      "  return func(*args2)\n",
      "/srv/conda/envs/notebook/lib/python3.7/site-packages/dask/core.py:119: RuntimeWarning: invalid value encountered in greater\n",
      "  return func(*args2)\n",
      "/srv/conda/envs/notebook/lib/python3.7/site-packages/dask/core.py:119: RuntimeWarning: invalid value encountered in greater\n",
      "  return func(*args2)\n",
      "/srv/conda/envs/notebook/lib/python3.7/site-packages/dask/core.py:119: RuntimeWarning: invalid value encountered in greater\n",
      "  return func(*args2)\n",
      "/srv/conda/envs/notebook/lib/python3.7/site-packages/dask/core.py:119: RuntimeWarning: invalid value encountered in greater\n",
      "  return func(*args2)\n",
      "/srv/conda/envs/notebook/lib/python3.7/site-packages/dask/core.py:119: RuntimeWarning: invalid value encountered in greater\n",
      "  return func(*args2)\n",
      "/srv/conda/envs/notebook/lib/python3.7/site-packages/dask/core.py:119: RuntimeWarning: invalid value encountered in greater\n",
      "  return func(*args2)\n",
      "/srv/conda/envs/notebook/lib/python3.7/site-packages/dask/core.py:119: RuntimeWarning: invalid value encountered in greater\n",
      "  return func(*args2)\n"
     ]
    },
    {
     "name": "stdout",
     "output_type": "stream",
     "text": [
      "############### CESM2-FV2.gr #######################\n",
      "ATTENTION: Setting shift to left for CESM2-FV2.gr, since there is no velocity data\n",
      "############### CESM2-WACCM.gn #######################\n",
      "############### CESM2-WACCM.gr #######################\n",
      "ATTENTION: Setting shift to left for CESM2-WACCM.gr, since there is no velocity data\n",
      "############### CESM2-WACCM-FV2.gn #######################\n",
      "############### CESM2-WACCM-FV2.gr #######################\n",
      "ATTENTION: Setting shift to left for CESM2-WACCM-FV2.gr, since there is no velocity data\n",
      "############### CIESM.gn #######################\n",
      "############### CNRM-CM6-1.gn #######################\n",
      "############### CNRM-CM6-1.gr1 #######################\n",
      "ATTENTION: Setting shift to left for CNRM-CM6-1.gr1, since there is no velocity data\n",
      "############### CNRM-CM6-1-HR.gn #######################\n",
      "############### CNRM-ESM2-1.gn #######################\n",
      "############### CNRM-ESM2-1.gr1 #######################\n",
      "ATTENTION: Setting shift to left for CNRM-ESM2-1.gr1, since there is no velocity data\n",
      "############### CanESM5.gn #######################\n",
      "############### CanESM5-CanOE.gn #######################\n",
      "############### E3SM-1-0.gr #######################\n",
      "############### E3SM-1-1.gr #######################\n",
      "############### E3SM-1-1-ECA.gr #######################\n",
      "############### EC-Earth3.gn #######################\n",
      "############### EC-Earth3.gr #######################\n",
      "ATTENTION: Setting shift to left for EC-Earth3.gr, since there is no velocity data\n",
      "############### EC-Earth3-LR.gn #######################\n",
      "############### EC-Earth3-Veg.gn #######################\n",
      "############### EC-Earth3-Veg-LR.gn #######################\n",
      "ATTENTION: Setting shift to left for EC-Earth3-Veg-LR.gn, since there is no velocity data\n",
      "############### FGOALS-f3-L.gn #######################\n",
      "############### FGOALS-g3.gn #######################\n",
      "ATTENTION: Setting shift to left for FGOALS-g3.gn, since there is no velocity data\n",
      "############### FIO-ESM-2-0.gn #######################\n",
      "############### GFDL-CM4.gn #######################\n",
      "############### GFDL-CM4.gr #######################\n",
      "ATTENTION: Setting shift to left for GFDL-CM4.gr, since there is no velocity data\n",
      "############### GFDL-ESM4.gn #######################\n",
      "ATTENTION: Setting shift to left for GFDL-ESM4.gn, since there is no velocity data\n",
      "############### GFDL-ESM4.gr #######################\n",
      "ATTENTION: Setting shift to left for GFDL-ESM4.gr, since there is no velocity data\n",
      "############### GFDL-OM4p5B.gn #######################\n",
      "ATTENTION: Setting shift to left for GFDL-OM4p5B.gn, since there is no velocity data\n",
      "############### GFDL-OM4p5B.gr #######################\n",
      "ATTENTION: Setting shift to left for GFDL-OM4p5B.gr, since there is no velocity data\n",
      "############### GISS-E2-1-G.gn #######################\n",
      "############### GISS-E2-1-G-CC.gn #######################\n",
      "############### GISS-E2-1-H.gn #######################\n",
      "ATTENTION: Setting shift to left for GISS-E2-1-H.gn, since there is no velocity data\n",
      "############### GISS-E2-1-H.gr #######################\n",
      "############### GISS-E2-2-G.gn #######################\n",
      "############### HadGEM3-GC31-LL.gn #######################\n",
      "############### HadGEM3-GC31-MM.gn #######################\n",
      "############### IITM-ESM.gn #######################\n",
      "ATTENTION: Setting shift to left for IITM-ESM.gn, since there is no velocity data\n",
      "############### INM-CM4-8.gr1 #######################\n",
      "############### INM-CM5-0.gr1 #######################\n",
      "############### IPSL-CM6A-LR.gn #######################\n",
      "############### KACE-1-0-G.gr #######################\n",
      "ATTENTION: Setting shift to left for KACE-1-0-G.gr, since there is no velocity data\n",
      "############### MCM-UA-1-0.gn #######################\n",
      "############### MIROC-ES2L.gn #######################\n",
      "############### MIROC6.gn #######################\n",
      "############### MPI-ESM-1-2-HAM.gn #######################\n",
      "{'right', 'left'}\n",
      "SCHEISSE\n",
      "############### MPI-ESM1-2-HR.gn #######################\n",
      "############### MPI-ESM1-2-LR.gn #######################\n",
      "{'right', 'left'}\n",
      "SCHEISSE\n",
      "############### MRI-ESM2-0.gn #######################\n",
      "############### MRI-ESM2-0.gr #######################\n",
      "ATTENTION: Setting shift to left for MRI-ESM2-0.gr, since there is no velocity data\n",
      "############### NESM3.gn #######################\n",
      "############### NorCPM1.gn #######################\n",
      "ATTENTION: Setting shift to left for NorCPM1.gn, since there is no velocity data\n",
      "############### NorCPM1.gr #######################\n",
      "############### NorESM1-F.gn #######################\n",
      "ATTENTION: Setting shift to left for NorESM1-F.gn, since there is no velocity data\n",
      "############### NorESM2-LM.gn #######################\n",
      "############### NorESM2-LM.gr #######################\n",
      "############### NorESM2-MM.gn #######################\n",
      "############### NorESM2-MM.gr #######################\n",
      "############### SAM0-UNICON.gn #######################\n",
      "############### TaiESM1.gn #######################\n",
      "############### UKESM1-0-LL.gn #######################\n"
     ]
    }
   ],
   "source": [
    "staggered_grid_dict = {}\n",
    "for k in super_dict['thetao'].keys():\n",
    "    ds_ref = super_dict['thetao'][k]\n",
    "    s_id = ds_ref.attrs['source_id']\n",
    "    g_la = ds_ref.attrs['grid_label']\n",
    "    \n",
    "    if not ('AWI' in k and 'gn' in k):\n",
    "        print(f\"############### {k} #######################\")\n",
    "        if k in super_dict['uo'].keys() and k in super_dict['vo'].keys():\n",
    "            \n",
    "            ds_u = super_dict['uo'][k]\n",
    "            ds_v = super_dict['vo'][k]\n",
    "            \n",
    "            if 'x' not in ds_ref.dims:\n",
    "                print(f'THIS IS SOME ERROR IN THE PREPROCESSSING. INVESTIGATE {k}')\n",
    "                # a nevermind, these are just the AWI ones...remove them earlier...\n",
    "            else:\n",
    "                x_shift_u = detect_shift(ds_ref, ds_u, 'X')\n",
    "                y_shift_u = detect_shift(ds_ref, ds_u, 'Y')\n",
    "\n",
    "                x_shift_v = detect_shift(ds_ref, ds_v, 'X')\n",
    "                y_shift_v = detect_shift(ds_ref, ds_v, 'Y')\n",
    "\n",
    "                # check that there is only one left after removing 'center'\n",
    "                x_shift = set([x_shift_u, x_shift_v]) - set(['center'])\n",
    "                y_shift = set([y_shift_u, y_shift_v]) - set(['center'])\n",
    "                # if they are all on center default to left\n",
    "\n",
    "                if len(x_shift) == 0:\n",
    "                    x_shift = 'left'\n",
    "                elif len(x_shift) == 1:\n",
    "                    x_shift = list(x_shift)[0]\n",
    "                else:\n",
    "                    print(x_shift)\n",
    "                    print('SCHEISSE')\n",
    "                    x_shift=None\n",
    "\n",
    "                if len(y_shift) == 0:\n",
    "                    y_shift = 'left'\n",
    "                elif len(y_shift) == 1:\n",
    "                    y_shift = list(y_shift)[0]\n",
    "                else:\n",
    "                    print(y_shift)\n",
    "                    print('SCHEISSE')\n",
    "                    y_shift = None\n",
    "        else:\n",
    "            print(f\"ATTENTION: Setting shift to left for {k}, since there is no velocity data\")\n",
    "            x_shift = 'left'\n",
    "            y_shift = 'left'\n",
    "            \n",
    "        if x_shift is not None and y_shift is not None:\n",
    "            if not s_id in staggered_grid_dict.keys():\n",
    "                staggered_grid_dict[s_id] = {}\n",
    "            staggered_grid_dict[s_id][g_la] = {'axis_shift':{'X': x_shift, 'Y': y_shift}}"
   ]
  },
  {
   "cell_type": "markdown",
   "metadata": {},
   "source": [
    "## Check with old dict..."
   ]
  },
  {
   "cell_type": "code",
   "execution_count": 30,
   "metadata": {},
   "outputs": [],
   "source": [
    "import yaml\n",
    "ff = open('/home/jovyan/cmip6_preprocessing/cmip6_preprocessing/specs/staggered_grid_config.yaml', \"r\")\n",
    "grid_dict = yaml.safe_load(ff)\n",
    "ff.close()"
   ]
  },
  {
   "cell_type": "code",
   "execution_count": 31,
   "metadata": {},
   "outputs": [
    {
     "name": "stdout",
     "output_type": "stream",
     "text": [
      "Keys in the old grid, which are not in the new one set()\n",
      "Newly added models {'GFDL-ESM4', 'INM-CM5-0', 'CESM1-1-CAM5-CMIP5', 'NorCPM1', 'INM-CM4-8', 'FGOALS-g3', 'KACE-1-0-G', 'E3SM-1-1-ECA', 'E3SM-1-1', 'GFDL-OM4p5B', 'GISS-E2-1-H', 'CAS-ESM2-0', 'IITM-ESM', 'E3SM-1-0', 'EC-Earth3-Veg-LR', 'NorESM1-F'}\n"
     ]
    }
   ],
   "source": [
    "# any keys in the old dict that are not in the new one?\n",
    "print(f\"Keys in the old grid, which are not in the new one {set(grid_dict.keys())- set(staggered_grid_dict.keys())}\")\n",
    "\n",
    "print(f\"Newly added models {set(staggered_grid_dict.keys()) - set(grid_dict.keys())}\")"
   ]
  },
  {
   "cell_type": "code",
   "execution_count": 32,
   "metadata": {},
   "outputs": [
    {
     "data": {
      "text/plain": [
       "{'gn': {'axis_shift': {'X': 'left', 'Y': 'left'}},\n",
       " 'gr': {'axis_shift': {'X': 'left', 'Y': 'left'}}}"
      ]
     },
     "execution_count": 32,
     "metadata": {},
     "output_type": "execute_result"
    }
   ],
   "source": [
    "staggered_grid_dict['GFDL-CM4']"
   ]
  },
  {
   "cell_type": "code",
   "execution_count": 33,
   "metadata": {},
   "outputs": [],
   "source": [
    "with open('test.yaml', 'w') as file:\n",
    "    documents = yaml.dump(staggered_grid_dict, file)"
   ]
  },
  {
   "cell_type": "markdown",
   "metadata": {},
   "source": [
    "# Simple example for issue"
   ]
  },
  {
   "cell_type": "code",
   "execution_count": null,
   "metadata": {},
   "outputs": [],
   "source": []
  },
  {
   "cell_type": "code",
   "execution_count": 1,
   "metadata": {},
   "outputs": [],
   "source": [
    "\n",
    "# # Test PR from anderson\n",
    "# ! pip install git+https://github.com/NCAR/intake-esm.git@refs/pull/247/head   "
   ]
  },
  {
   "cell_type": "code",
   "execution_count": 2,
   "metadata": {},
   "outputs": [
    {
     "name": "stderr",
     "output_type": "stream",
     "text": [
      "/srv/conda/envs/notebook/lib/python3.7/site-packages/intake/source/discovery.py:136: FutureWarning: The drivers ['geojson', 'postgis', 'shapefile', 'spatialite'] do not specify entry_points and were only discovered via a package scan. This may break in a future release of intake. The packages should be updated.\n",
      "  FutureWarning)\n"
     ]
    }
   ],
   "source": [
    "import intake_esm"
   ]
  },
  {
   "cell_type": "code",
   "execution_count": 3,
   "metadata": {},
   "outputs": [
    {
     "data": {
      "text/plain": [
       "'2020.5.21.post4'"
      ]
     },
     "execution_count": 3,
     "metadata": {},
     "output_type": "execute_result"
    }
   ],
   "source": [
    "intake_esm.__version__"
   ]
  },
  {
   "cell_type": "code",
   "execution_count": 4,
   "metadata": {},
   "outputs": [],
   "source": [
    "import intake\n",
    "import pandas as pd\n",
    "url = \"https://raw.githubusercontent.com/NCAR/intake-esm-datastore/master/catalogs/pangeo-cmip6.json\"\n",
    "col = intake.open_esm_datastore(url)\n",
    "\n",
    "cat = col.search(table_id=['Omon', 'Oyr'])\n",
    "\n",
    "# now modify the dataframe manually\n",
    "cat.df = cat.df.iloc[0:3, :]"
   ]
  },
  {
   "cell_type": "code",
   "execution_count": 5,
   "metadata": {},
   "outputs": [
    {
     "data": {
      "text/html": [
       "<p><strong>pangeo-cmip6 catalog with 1 dataset(s) from 3 asset(s)</strong>:</p> <div>\n",
       "<style scoped>\n",
       "    .dataframe tbody tr th:only-of-type {\n",
       "        vertical-align: middle;\n",
       "    }\n",
       "\n",
       "    .dataframe tbody tr th {\n",
       "        vertical-align: top;\n",
       "    }\n",
       "\n",
       "    .dataframe thead th {\n",
       "        text-align: right;\n",
       "    }\n",
       "</style>\n",
       "<table border=\"1\" class=\"dataframe\">\n",
       "  <thead>\n",
       "    <tr style=\"text-align: right;\">\n",
       "      <th></th>\n",
       "      <th>unique</th>\n",
       "    </tr>\n",
       "  </thead>\n",
       "  <tbody>\n",
       "    <tr>\n",
       "      <th>activity_id</th>\n",
       "      <td>1</td>\n",
       "    </tr>\n",
       "    <tr>\n",
       "      <th>institution_id</th>\n",
       "      <td>1</td>\n",
       "    </tr>\n",
       "    <tr>\n",
       "      <th>source_id</th>\n",
       "      <td>1</td>\n",
       "    </tr>\n",
       "    <tr>\n",
       "      <th>experiment_id</th>\n",
       "      <td>1</td>\n",
       "    </tr>\n",
       "    <tr>\n",
       "      <th>member_id</th>\n",
       "      <td>1</td>\n",
       "    </tr>\n",
       "    <tr>\n",
       "      <th>table_id</th>\n",
       "      <td>1</td>\n",
       "    </tr>\n",
       "    <tr>\n",
       "      <th>variable_id</th>\n",
       "      <td>3</td>\n",
       "    </tr>\n",
       "    <tr>\n",
       "      <th>grid_label</th>\n",
       "      <td>1</td>\n",
       "    </tr>\n",
       "    <tr>\n",
       "      <th>zstore</th>\n",
       "      <td>3</td>\n",
       "    </tr>\n",
       "    <tr>\n",
       "      <th>dcpp_init_year</th>\n",
       "      <td>0</td>\n",
       "    </tr>\n",
       "  </tbody>\n",
       "</table>\n",
       "</div>"
      ],
      "text/plain": [
       "<pangeo-cmip6 catalog with 1 dataset(s) from 3 asset(s)>"
      ]
     },
     "execution_count": 5,
     "metadata": {},
     "output_type": "execute_result"
    }
   ],
   "source": [
    "cat"
   ]
  },
  {
   "cell_type": "code",
   "execution_count": 6,
   "metadata": {},
   "outputs": [
    {
     "name": "stdout",
     "output_type": "stream",
     "text": [
      "\n",
      "--> The keys in the returned dictionary of datasets are constructed as follows:\n",
      "\t'activity_id.institution_id.source_id.experiment_id.table_id.grid_label'\n"
     ]
    },
    {
     "data": {
      "text/html": [
       "\n",
       "    <div>\n",
       "        <style>\n",
       "            /* Turns off some styling */\n",
       "            progress {\n",
       "                /* gets rid of default border in Firefox and Opera. */\n",
       "                border: none;\n",
       "                /* Needs to be in here for Safari polyfill so background images work as expected. */\n",
       "                background-size: auto;\n",
       "            }\n",
       "            .progress-bar-interrupted, .progress-bar-interrupted::-webkit-progress-bar {\n",
       "                background: #F44336;\n",
       "            }\n",
       "        </style>\n",
       "      <progress value='1' class='' max='1' style='width:300px; height:20px; vertical-align: middle;'></progress>\n",
       "      100.00% [1/1 00:00<00:00]\n",
       "    </div>\n",
       "    "
      ],
      "text/plain": [
       "<IPython.core.display.HTML object>"
      ]
     },
     "metadata": {},
     "output_type": "display_data"
    }
   ],
   "source": [
    "ddict = cat.to_dataset_dict()"
   ]
  },
  {
   "cell_type": "code",
   "execution_count": null,
   "metadata": {},
   "outputs": [],
   "source": []
  }
 ],
 "metadata": {
  "kernelspec": {
   "display_name": "Python 3",
   "language": "python",
   "name": "python3"
  },
  "language_info": {
   "codemirror_mode": {
    "name": "ipython",
    "version": 3
   },
   "file_extension": ".py",
   "mimetype": "text/x-python",
   "name": "python",
   "nbconvert_exporter": "python",
   "pygments_lexer": "ipython3",
   "version": "3.7.3"
  }
 },
 "nbformat": 4,
 "nbformat_minor": 4
}
