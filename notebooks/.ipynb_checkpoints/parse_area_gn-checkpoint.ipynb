{
 "cells": [
  {
   "cell_type": "markdown",
   "metadata": {},
   "source": [
    "# Extract areas from all available parameters and parse based on `source_id`"
   ]
  },
  {
   "cell_type": "code",
   "execution_count": 9,
   "metadata": {},
   "outputs": [],
   "source": [
    "import intake\n",
    "import numpy as np"
   ]
  },
  {
   "cell_type": "code",
   "execution_count": 24,
   "metadata": {},
   "outputs": [],
   "source": [
    "from cmip6_preprocessing.parse_static_metrics import parse_metrics"
   ]
  },
  {
   "cell_type": "code",
   "execution_count": 25,
   "metadata": {},
   "outputs": [],
   "source": [
    "# define collection\n",
    "col = intake.open_esm_datastore(\"../../cmip6hack-ocean-bgc/catalogs/pangeo-cmip6.json\")"
   ]
  },
  {
   "cell_type": "code",
   "execution_count": 26,
   "metadata": {},
   "outputs": [
    {
     "name": "stdout",
     "output_type": "stream",
     "text": [
      "--> The keys in the returned dictionary of datasets are constructed as follows:\n",
      "\t'activity_id.institution_id.source_id.experiment_id.table_id.grid_label'\n",
      "\n",
      "--> There will be 22 group(s)\n"
     ]
    },
    {
     "name": "stderr",
     "output_type": "stream",
     "text": [
      "/srv/conda/envs/notebook/lib/python3.7/site-packages/xarray/coding/times.py:459: SerializationWarning: Unable to decode time axis into full numpy.datetime64 objects, continuing using cftime.datetime objects instead, reason: dates out of range\n",
      "  dtype = _decode_cf_datetime_dtype(data, units, calendar, self.use_cftime)\n",
      "/srv/conda/envs/notebook/lib/python3.7/site-packages/xarray/coding/times.py:459: SerializationWarning: Unable to decode time axis into full numpy.datetime64 objects, continuing using cftime.datetime objects instead, reason: dates out of range\n",
      "  dtype = _decode_cf_datetime_dtype(data, units, calendar, self.use_cftime)\n",
      "/srv/conda/envs/notebook/lib/python3.7/site-packages/xarray/coding/times.py:459: SerializationWarning: Unable to decode time axis into full numpy.datetime64 objects, continuing using cftime.datetime objects instead, reason: dates out of range\n",
      "  dtype = _decode_cf_datetime_dtype(data, units, calendar, self.use_cftime)\n",
      "/srv/conda/envs/notebook/lib/python3.7/site-packages/xarray/coding/times.py:459: SerializationWarning: Unable to decode time axis into full numpy.datetime64 objects, continuing using cftime.datetime objects instead, reason: dates out of range\n",
      "  dtype = _decode_cf_datetime_dtype(data, units, calendar, self.use_cftime)\n",
      "/srv/conda/envs/notebook/lib/python3.7/site-packages/xarray/coding/times.py:459: SerializationWarning: Unable to decode time axis into full numpy.datetime64 objects, continuing using cftime.datetime objects instead, reason: dates out of range\n",
      "  dtype = _decode_cf_datetime_dtype(data, units, calendar, self.use_cftime)\n",
      "/srv/conda/envs/notebook/lib/python3.7/site-packages/xarray/coding/times.py:459: SerializationWarning: Unable to decode time axis into full numpy.datetime64 objects, continuing using cftime.datetime objects instead, reason: dates out of range\n",
      "  dtype = _decode_cf_datetime_dtype(data, units, calendar, self.use_cftime)\n",
      "/srv/conda/envs/notebook/lib/python3.7/site-packages/numpy/core/_asarray.py:85: SerializationWarning: Unable to decode time axis into full numpy.datetime64 objects, continuing using cftime.datetime objects instead, reason: dates out of range\n",
      "  return array(a, dtype, copy=False, order=order)\n",
      "/srv/conda/envs/notebook/lib/python3.7/site-packages/numpy/core/_asarray.py:85: SerializationWarning: Unable to decode time axis into full numpy.datetime64 objects, continuing using cftime.datetime objects instead, reason: dates out of range\n",
      "  return array(a, dtype, copy=False, order=order)\n",
      "/srv/conda/envs/notebook/lib/python3.7/site-packages/xarray/coding/times.py:459: SerializationWarning: Unable to decode time axis into full numpy.datetime64 objects, continuing using cftime.datetime objects instead, reason: dates out of range\n",
      "  dtype = _decode_cf_datetime_dtype(data, units, calendar, self.use_cftime)\n",
      "/srv/conda/envs/notebook/lib/python3.7/site-packages/numpy/core/_asarray.py:85: SerializationWarning: Unable to decode time axis into full numpy.datetime64 objects, continuing using cftime.datetime objects instead, reason: dates out of range\n",
      "  return array(a, dtype, copy=False, order=order)\n",
      "/srv/conda/envs/notebook/lib/python3.7/site-packages/xarray/coding/times.py:459: SerializationWarning: Unable to decode time axis into full numpy.datetime64 objects, continuing using cftime.datetime objects instead, reason: dates out of range\n",
      "  dtype = _decode_cf_datetime_dtype(data, units, calendar, self.use_cftime)\n",
      "/srv/conda/envs/notebook/lib/python3.7/site-packages/xarray/coding/times.py:459: SerializationWarning: Unable to decode time axis into full numpy.datetime64 objects, continuing using cftime.datetime objects instead, reason: dates out of range\n",
      "  dtype = _decode_cf_datetime_dtype(data, units, calendar, self.use_cftime)\n",
      "/srv/conda/envs/notebook/lib/python3.7/site-packages/xarray/coding/times.py:459: SerializationWarning: Unable to decode time axis into full numpy.datetime64 objects, continuing using cftime.datetime objects instead, reason: dates out of range\n",
      "  dtype = _decode_cf_datetime_dtype(data, units, calendar, self.use_cftime)\n",
      "/srv/conda/envs/notebook/lib/python3.7/site-packages/xarray/coding/times.py:459: SerializationWarning: Unable to decode time axis into full numpy.datetime64 objects, continuing using cftime.datetime objects instead, reason: dates out of range\n",
      "  dtype = _decode_cf_datetime_dtype(data, units, calendar, self.use_cftime)\n",
      "/srv/conda/envs/notebook/lib/python3.7/site-packages/xarray/coding/times.py:459: SerializationWarning: Unable to decode time axis into full numpy.datetime64 objects, continuing using cftime.datetime objects instead, reason: dates out of range\n",
      "  dtype = _decode_cf_datetime_dtype(data, units, calendar, self.use_cftime)\n",
      "/srv/conda/envs/notebook/lib/python3.7/site-packages/numpy/core/_asarray.py:85: SerializationWarning: Unable to decode time axis into full numpy.datetime64 objects, continuing using cftime.datetime objects instead, reason: dates out of range\n",
      "  return array(a, dtype, copy=False, order=order)\n",
      "/srv/conda/envs/notebook/lib/python3.7/site-packages/numpy/core/_asarray.py:85: SerializationWarning: Unable to decode time axis into full numpy.datetime64 objects, continuing using cftime.datetime objects instead, reason: dates out of range\n",
      "  return array(a, dtype, copy=False, order=order)\n",
      "/srv/conda/envs/notebook/lib/python3.7/site-packages/numpy/core/_asarray.py:85: SerializationWarning: Unable to decode time axis into full numpy.datetime64 objects, continuing using cftime.datetime objects instead, reason: dates out of range\n",
      "  return array(a, dtype, copy=False, order=order)\n"
     ]
    },
    {
     "data": {
      "text/plain": [
       "dict_keys(['CMIP.AWI.AWI-CM-1-1-MR.piControl.Omon.gn', 'CMIP.BCC.BCC-CSM2-MR.piControl.Omon.gn', 'CMIP.BCC.BCC-ESM1.piControl.Omon.gn', 'CMIP.CAMS.CAMS-CSM1-0.piControl.Omon.gn', 'CMIP.CCCma.CanESM5.piControl.Omon.gn', 'CMIP.CNRM-CERFACS.CNRM-CM6-1.piControl.Omon.gn', 'CMIP.CNRM-CERFACS.CNRM-ESM2-1.piControl.Omon.gn', 'CMIP.EC-Earth-Consortium.EC-Earth3.piControl.Omon.gn', 'CMIP.EC-Earth-Consortium.EC-Earth3-Veg.piControl.Omon.gn', 'CMIP.MIROC.MIROC-ES2L.piControl.Omon.gn', 'CMIP.MIROC.MIROC6.piControl.Omon.gn', 'CMIP.MOHC.HadGEM3-GC31-LL.piControl.Omon.gn', 'CMIP.MOHC.UKESM1-0-LL.piControl.Omon.gn', 'CMIP.NASA-GISS.GISS-E2-1-G.piControl.Omon.gn', 'CMIP.NASA-GISS.GISS-E2-1-G-CC.piControl.Omon.gn', 'CMIP.NCAR.CESM2.piControl.Omon.gn', 'CMIP.NCAR.CESM2-WACCM.piControl.Omon.gn', 'CMIP.NOAA-GFDL.GFDL-CM4.piControl.Omon.gn', 'CMIP.NOAA-GFDL.GFDL-ESM4.piControl.Omon.gn', 'CMIP.NUIST.NESM3.piControl.Omon.gn', 'CMIP.SNU.SAM0-UNICON.piControl.Omon.gn', 'CMIP.UA.MCM-UA-1-0.piControl.Omon.gn'])"
      ]
     },
     "execution_count": 26,
     "metadata": {},
     "output_type": "execute_result"
    }
   ],
   "source": [
    "# load a bunch of dataset with intake_esm\n",
    "query = dict(experiment_id='piControl',\n",
    "                 variable_id=['thetao'], grid_label='gn')\n",
    "cat = col.search(**query)\n",
    "cat.df\n",
    "raw_data_dict = cat.to_dataset_dict(zarr_kwargs={'consolidated': True}, cdf_kwargs={'chunks': {}})\n",
    "raw_data_dict.keys()"
   ]
  },
  {
   "cell_type": "markdown",
   "metadata": {},
   "source": [
    "You can see there are 22 models with temp data!"
   ]
  },
  {
   "cell_type": "markdown",
   "metadata": {},
   "source": [
    "But not each one of them has an area.... It turns out that the areas are spread all over the catalogue with no discenible system. BUT THEY ARE SOMEWHERE for pretty much every model...and they should be the same for a given `source_id` and `grid_spec`. So with `parse_metrics` we can parse the area into the datasets as coordinates."
   ]
  },
  {
   "cell_type": "code",
   "execution_count": 27,
   "metadata": {},
   "outputs": [
    {
     "name": "stdout",
     "output_type": "stream",
     "text": [
      "--> The keys in the returned dictionary of datasets are constructed as follows:\n",
      "\t'activity_id.institution_id.source_id.experiment_id.table_id.grid_label'\n",
      "\n",
      "--> There will be 0 group(s)\n"
     ]
    },
    {
     "name": "stderr",
     "output_type": "stream",
     "text": [
      "/home/jovyan/cmip6_preprocessing/cmip6_preprocessing/parse_static_metrics.py:23: UserWarning: No metric [areacello] found for source_id [AWI-CM-1-1-MR] and grid_label[gn]\n",
      "  warnings.warn('No metric [%s] found for source_id [%s] and grid_label[%s]' %(varname, source_id, grid_label))\n"
     ]
    },
    {
     "name": "stdout",
     "output_type": "stream",
     "text": [
      "--> The keys in the returned dictionary of datasets are constructed as follows:\n",
      "\t'activity_id.institution_id.source_id.experiment_id.table_id.grid_label'\n",
      "\n",
      "--> There will be 0 group(s)\n",
      "--> The keys in the returned dictionary of datasets are constructed as follows:\n",
      "\t'activity_id.institution_id.source_id.experiment_id.table_id.grid_label'\n",
      "\n",
      "--> There will be 0 group(s)\n"
     ]
    },
    {
     "name": "stderr",
     "output_type": "stream",
     "text": [
      "/home/jovyan/cmip6_preprocessing/cmip6_preprocessing/parse_static_metrics.py:23: UserWarning: No metric [areacello] found for source_id [BCC-CSM2-MR] and grid_label[gn]\n",
      "  warnings.warn('No metric [%s] found for source_id [%s] and grid_label[%s]' %(varname, source_id, grid_label))\n",
      "/home/jovyan/cmip6_preprocessing/cmip6_preprocessing/parse_static_metrics.py:23: UserWarning: No metric [areacello] found for source_id [BCC-ESM1] and grid_label[gn]\n",
      "  warnings.warn('No metric [%s] found for source_id [%s] and grid_label[%s]' %(varname, source_id, grid_label))\n"
     ]
    },
    {
     "name": "stdout",
     "output_type": "stream",
     "text": [
      "--> The keys in the returned dictionary of datasets are constructed as follows:\n",
      "\t'activity_id.institution_id.source_id.experiment_id.table_id.grid_label'\n",
      "\n",
      "--> There will be 0 group(s)\n",
      "--> The keys in the returned dictionary of datasets are constructed as follows:\n",
      "\t'activity_id.institution_id.source_id.experiment_id.table_id.grid_label'\n",
      "\n",
      "--> There will be 1 group(s)\n"
     ]
    },
    {
     "name": "stderr",
     "output_type": "stream",
     "text": [
      "/home/jovyan/cmip6_preprocessing/cmip6_preprocessing/parse_static_metrics.py:23: UserWarning: No metric [areacello] found for source_id [CAMS-CSM1-0] and grid_label[gn]\n",
      "  warnings.warn('No metric [%s] found for source_id [%s] and grid_label[%s]' %(varname, source_id, grid_label))\n"
     ]
    },
    {
     "name": "stdout",
     "output_type": "stream",
     "text": [
      "--> The keys in the returned dictionary of datasets are constructed as follows:\n",
      "\t'activity_id.institution_id.source_id.experiment_id.table_id.grid_label'\n",
      "\n",
      "--> There will be 1 group(s)\n",
      "--> The keys in the returned dictionary of datasets are constructed as follows:\n",
      "\t'activity_id.institution_id.source_id.experiment_id.table_id.grid_label'\n",
      "\n",
      "--> There will be 1 group(s)\n",
      "--> The keys in the returned dictionary of datasets are constructed as follows:\n",
      "\t'activity_id.institution_id.source_id.experiment_id.table_id.grid_label'\n",
      "\n",
      "--> There will be 1 group(s)\n",
      "--> The keys in the returned dictionary of datasets are constructed as follows:\n",
      "\t'activity_id.institution_id.source_id.experiment_id.table_id.grid_label'\n",
      "\n",
      "--> There will be 1 group(s)\n",
      "--> The keys in the returned dictionary of datasets are constructed as follows:\n",
      "\t'activity_id.institution_id.source_id.experiment_id.table_id.grid_label'\n",
      "\n",
      "--> There will be 1 group(s)\n",
      "--> The keys in the returned dictionary of datasets are constructed as follows:\n",
      "\t'activity_id.institution_id.source_id.experiment_id.table_id.grid_label'\n",
      "\n",
      "--> There will be 1 group(s)\n",
      "--> The keys in the returned dictionary of datasets are constructed as follows:\n",
      "\t'activity_id.institution_id.source_id.experiment_id.table_id.grid_label'\n",
      "\n",
      "--> There will be 1 group(s)\n",
      "--> The keys in the returned dictionary of datasets are constructed as follows:\n",
      "\t'activity_id.institution_id.source_id.experiment_id.table_id.grid_label'\n",
      "\n",
      "--> There will be 1 group(s)\n",
      "--> The keys in the returned dictionary of datasets are constructed as follows:\n",
      "\t'activity_id.institution_id.source_id.experiment_id.table_id.grid_label'\n",
      "\n",
      "--> There will be 1 group(s)\n",
      "--> The keys in the returned dictionary of datasets are constructed as follows:\n",
      "\t'activity_id.institution_id.source_id.experiment_id.table_id.grid_label'\n",
      "\n",
      "--> There will be 1 group(s)\n",
      "--> The keys in the returned dictionary of datasets are constructed as follows:\n",
      "\t'activity_id.institution_id.source_id.experiment_id.table_id.grid_label'\n",
      "\n",
      "--> There will be 1 group(s)\n",
      "--> The keys in the returned dictionary of datasets are constructed as follows:\n",
      "\t'activity_id.institution_id.source_id.experiment_id.table_id.grid_label'\n",
      "\n",
      "--> There will be 1 group(s)\n",
      "--> The keys in the returned dictionary of datasets are constructed as follows:\n",
      "\t'activity_id.institution_id.source_id.experiment_id.table_id.grid_label'\n",
      "\n",
      "--> There will be 1 group(s)\n",
      "--> The keys in the returned dictionary of datasets are constructed as follows:\n",
      "\t'activity_id.institution_id.source_id.experiment_id.table_id.grid_label'\n",
      "\n",
      "--> There will be 1 group(s)\n",
      "--> The keys in the returned dictionary of datasets are constructed as follows:\n",
      "\t'activity_id.institution_id.source_id.experiment_id.table_id.grid_label'\n",
      "\n",
      "--> There will be 0 group(s)\n",
      "--> The keys in the returned dictionary of datasets are constructed as follows:\n",
      "\t'activity_id.institution_id.source_id.experiment_id.table_id.grid_label'\n",
      "\n",
      "--> There will be 1 group(s)\n"
     ]
    },
    {
     "name": "stderr",
     "output_type": "stream",
     "text": [
      "/home/jovyan/cmip6_preprocessing/cmip6_preprocessing/parse_static_metrics.py:23: UserWarning: No metric [areacello] found for source_id [NESM3] and grid_label[gn]\n",
      "  warnings.warn('No metric [%s] found for source_id [%s] and grid_label[%s]' %(varname, source_id, grid_label))\n"
     ]
    },
    {
     "name": "stdout",
     "output_type": "stream",
     "text": [
      "--> The keys in the returned dictionary of datasets are constructed as follows:\n",
      "\t'activity_id.institution_id.source_id.experiment_id.table_id.grid_label'\n",
      "\n",
      "--> There will be 1 group(s)\n"
     ]
    }
   ],
   "source": [
    "# now parse all areas...\n",
    "data_dict = parse_metrics(raw_data_dict, col)"
   ]
  },
  {
   "cell_type": "code",
   "execution_count": 28,
   "metadata": {},
   "outputs": [],
   "source": [
    "new_dict = {k:ds for k, ds in data_dict.items() if 'areacello' in ds.coords}"
   ]
  },
  {
   "cell_type": "code",
   "execution_count": 29,
   "metadata": {},
   "outputs": [
    {
     "data": {
      "text/plain": [
       "17"
      ]
     },
     "execution_count": 29,
     "metadata": {},
     "output_type": "execute_result"
    }
   ],
   "source": [
    "len(new_dict)"
   ]
  },
  {
   "cell_type": "markdown",
   "metadata": {},
   "source": [
    "So we didnt get all of the models, but at least we got 17 to have an area for further calculations"
   ]
  },
  {
   "cell_type": "code",
   "execution_count": 30,
   "metadata": {},
   "outputs": [
    {
     "data": {
      "text/plain": [
       "<xarray.Dataset>\n",
       "Dimensions:             (bnds: 2, lev: 63, member_id: 1, time: 9600, vertices: 4, x: 360, y: 256)\n",
       "Coordinates:\n",
       "  * y                   (y) float64 -88.0 -85.75 -85.25 ... 148.6 150.5 152.4\n",
       "  * lev                 (lev) float64 1.0 3.5 7.0 ... 6.24e+03 6.87e+03 7.25e+03\n",
       "  * time                (time) object 3200-01-16 12:00:00 ... 3999-12-16 12:00:00\n",
       "  * x                   (x) float64 0.5 1.5 2.5 3.5 ... 356.5 357.5 358.5 359.5\n",
       "  * member_id           (member_id) <U8 'r1i1p1f1'\n",
       "    areacello           (y, x) float32 dask.array<chunksize=(256, 360), meta=np.ndarray>\n",
       "Dimensions without coordinates: bnds, vertices\n",
       "Data variables:\n",
       "    sigma               (lev) float64 dask.array<chunksize=(63,), meta=np.ndarray>\n",
       "    lev_bnds            (lev, bnds) float64 dask.array<chunksize=(63, 2), meta=np.ndarray>\n",
       "    longitude           (y, x) float32 dask.array<chunksize=(256, 360), meta=np.ndarray>\n",
       "    nsigma              int32 ...\n",
       "    eta                 (time, y, x) float32 dask.array<chunksize=(12, 256, 360), meta=np.ndarray>\n",
       "    sigma_bnds          (lev, bnds) float64 dask.array<chunksize=(63, 2), meta=np.ndarray>\n",
       "    depth               (y, x) float32 dask.array<chunksize=(256, 360), meta=np.ndarray>\n",
       "    depth_c             float64 ...\n",
       "    zlev                (lev) float64 dask.array<chunksize=(63,), meta=np.ndarray>\n",
       "    latitude            (y, x) float32 dask.array<chunksize=(256, 360), meta=np.ndarray>\n",
       "    vertices_latitude   (y, x, vertices) float32 dask.array<chunksize=(256, 360, 4), meta=np.ndarray>\n",
       "    y_bnds              (y, bnds) float64 dask.array<chunksize=(256, 2), meta=np.ndarray>\n",
       "    time_bnds           (time, bnds) object dask.array<chunksize=(9600, 2), meta=np.ndarray>\n",
       "    x_bnds              (x, bnds) float64 dask.array<chunksize=(360, 2), meta=np.ndarray>\n",
       "    vertices_longitude  (y, x, vertices) float32 dask.array<chunksize=(256, 360, 4), meta=np.ndarray>\n",
       "    zlev_bnds           (lev, bnds) float64 dask.array<chunksize=(63, 2), meta=np.ndarray>\n",
       "    thetao              (member_id, time, lev, y, x) float32 dask.array<chunksize=(1, 12, 63, 256, 360), meta=np.ndarray>\n",
       "Attributes:\n",
       "    Conventions:            CF-1.7 CMIP-6.2\n",
       "    activity_id:            CMIP\n",
       "    branch_method:          standard\n",
       "    branch_time_in_child:   0.0\n",
       "    branch_time_in_parent:  365242.0\n",
       "    cmor_version:           3.3.2\n",
       "    creation_date:          2019-01-23T22:30:18Z\n",
       "    data_specs_version:     01.00.28\n",
       "    experiment:             pre-industrial control\n",
       "    experiment_id:          piControl\n",
       "    external_variables:     areacello volcello\n",
       "    forcing_index:          1\n",
       "    frequency:              mon\n",
       "    further_info_url:       https://furtherinfo.es-doc.org/CMIP6.MIROC.MIROC6...\n",
       "    grid:                   native ocean tripolar grid with 360x256 cells\n",
       "    grid_label:             gn\n",
       "    history:                2019-01-23T22:30:18Z ; CMOR rewrote data to be co...\n",
       "    initialization_index:   1\n",
       "    institution:            JAMSTEC (Japan Agency for Marine-Earth Science an...\n",
       "    institution_id:         MIROC\n",
       "    license:                CMIP6 model data produced by MIROC is licensed un...\n",
       "    mip_era:                CMIP6\n",
       "    nominal_resolution:     100 km\n",
       "    parent_activity_id:     CMIP\n",
       "    parent_experiment_id:   piControl-spinup\n",
       "    parent_mip_era:         CMIP6\n",
       "    parent_source_id:       MIROC6\n",
       "    parent_time_units:      days since 2200-1-1\n",
       "    parent_variant_label:   r1i1p1f1\n",
       "    physics_index:          1\n",
       "    product:                model-output\n",
       "    realization_index:      1\n",
       "    realm:                  ocean\n",
       "    source:                 MIROC6 (2017): \\naerosol: SPRINTARS6.0\\natmos: CC...\n",
       "    source_id:              MIROC6\n",
       "    source_type:            AOGCM AER\n",
       "    sub_experiment:         none\n",
       "    sub_experiment_id:      none\n",
       "    table_id:               Omon\n",
       "    table_info:             Creation Date:(06 November 2018) MD5:0728c79344e0...\n",
       "    title:                  MIROC6 output prepared for CMIP6\n",
       "    tracking_id:            hdl:21.14100/3d093cd5-61c4-4cb6-824e-d776d71e535e...\n",
       "    variable_id:            thetao\n",
       "    variant_label:          r1i1p1f1"
      ]
     },
     "execution_count": 30,
     "metadata": {},
     "output_type": "execute_result"
    }
   ],
   "source": [
    "new_dict['CMIP.MIROC.MIROC6.piControl.Omon.gn']"
   ]
  },
  {
   "cell_type": "code",
   "execution_count": null,
   "metadata": {},
   "outputs": [],
   "source": []
  }
 ],
 "metadata": {
  "kernelspec": {
   "display_name": "Python 3",
   "language": "python",
   "name": "python3"
  },
  "language_info": {
   "codemirror_mode": {
    "name": "ipython",
    "version": 3
   },
   "file_extension": ".py",
   "mimetype": "text/x-python",
   "name": "python",
   "nbconvert_exporter": "python",
   "pygments_lexer": "ipython3",
   "version": "3.7.3"
  }
 },
 "nbformat": 4,
 "nbformat_minor": 4
}
